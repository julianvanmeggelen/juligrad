{
 "cells": [
  {
   "cell_type": "code",
   "execution_count": 1,
   "metadata": {},
   "outputs": [],
   "source": [
    "import numpy as np\n",
    "from juligrad import ops, tensor\n",
    "import networkx as nx\n"
   ]
  },
  {
   "cell_type": "markdown",
   "metadata": {},
   "source": [
    "## Multiply two tensors"
   ]
  },
  {
   "cell_type": "code",
   "execution_count": 2,
   "metadata": {},
   "outputs": [],
   "source": [
    "a = tensor.Tensor.fromNumpy(np.array([1,2,3]))\n",
    "b = tensor.Tensor.fromNumpy(np.array([2,2,2]))\n",
    "g = tensor.Tensor.fromNumpy(np.array([2,2,2]))\n",
    "h = tensor.Tensor.fromNumpy(np.array([2,2,2]))\n",
    "c = a * b\n",
    "d = a + g\n",
    "e = d * a + h + c"
   ]
  },
  {
   "cell_type": "code",
   "execution_count": 5,
   "metadata": {},
   "outputs": [
    {
     "data": {
      "text/plain": [
       "<juligrad.tensor.Tensor at 0x10b034590>"
      ]
     },
     "execution_count": 5,
     "metadata": {},
     "output_type": "execute_result"
    }
   ],
   "source": [
    "e"
   ]
  },
  {
   "cell_type": "markdown",
   "metadata": {},
   "source": []
  },
  {
   "cell_type": "code",
   "execution_count": 2,
   "metadata": {},
   "outputs": [],
   "source": [
    "from juligrad import dataset"
   ]
  },
  {
   "cell_type": "code",
   "execution_count": 2,
   "metadata": {},
   "outputs": [
    {
     "name": "stdout",
     "output_type": "stream",
     "text": [
      "./docs/test/n\n"
     ]
    }
   ],
   "source": [
    "import os\n",
    "print(os.path.join('./docs/test/', 'n'))"
   ]
  },
  {
   "cell_type": "code",
   "execution_count": 3,
   "metadata": {},
   "outputs": [],
   "source": [
    "X, y = dataset.load_mnist()"
   ]
  },
  {
   "cell_type": "code",
   "execution_count": 8,
   "metadata": {},
   "outputs": [
    {
     "data": {
      "text/plain": [
       "<matplotlib.image.AxesImage at 0x11832be90>"
      ]
     },
     "execution_count": 8,
     "metadata": {},
     "output_type": "execute_result"
    },
    {
     "data": {
      "image/png": "[encoded data removed]",
      "text/plain": [
       "<Figure size 640x480 with 1 Axes>"
      ]
     },
     "metadata": {},
     "output_type": "display_data"
    }
   ],
   "source": [
    "import matplotlib.pyplot as plt\n",
    "plt.imshow(X.data[0])"
   ]
  },
  {
   "cell_type": "code",
   "execution_count": 5,
   "metadata": {},
   "outputs": [
    {
     "name": "stdout",
     "output_type": "stream",
     "text": [
      "(100, 10) (100, 1)\n"
     ]
    }
   ],
   "source": [
    "from juligrad.tensor import Tensor\n",
    "a = Tensor.randn(size=(100,10))\n",
    "b = a.sum(axis=-1)\n",
    "print(a.shape,b.shape)"
   ]
  },
  {
   "cell_type": "code",
   "execution_count": 6,
   "metadata": {},
   "outputs": [],
   "source": [
    "b.backward(Tensor.randn(b.shape))"
   ]
  },
  {
   "cell_type": "code",
   "execution_count": 7,
   "metadata": {},
   "outputs": [
    {
     "data": {
      "text/plain": [
       "array([[ 0.66237137,  0.66237137,  0.66237137,  0.66237137,  0.66237137,\n",
       "         0.66237137,  0.66237137,  0.66237137,  0.66237137,  0.66237137],\n",
       "       [ 0.23159237,  0.23159237,  0.23159237,  0.23159237,  0.23159237,\n",
       "         0.23159237,  0.23159237,  0.23159237,  0.23159237,  0.23159237],\n",
       "       [ 0.51896051,  0.51896051,  0.51896051,  0.51896051,  0.51896051,\n",
       "         0.51896051,  0.51896051,  0.51896051,  0.51896051,  0.51896051],\n",
       "       [-2.47964497, -2.47964497, -2.47964497, -2.47964497, -2.47964497,\n",
       "        -2.47964497, -2.47964497, -2.47964497, -2.47964497, -2.47964497],\n",
       "       [-1.25361748, -1.25361748, -1.25361748, -1.25361748, -1.25361748,\n",
       "        -1.25361748, -1.25361748, -1.25361748, -1.25361748, -1.25361748],\n",
       "       [ 0.48314023,  0.48314023,  0.48314023,  0.48314023,  0.48314023,\n",
       "         0.48314023,  0.48314023,  0.48314023,  0.48314023,  0.48314023],\n",
       "       [ 1.13041557,  1.13041557,  1.13041557,  1.13041557,  1.13041557,\n",
       "         1.13041557,  1.13041557,  1.13041557,  1.13041557,  1.13041557],\n",
       "       [ 0.26842742,  0.26842742,  0.26842742,  0.26842742,  0.26842742,\n",
       "         0.26842742,  0.26842742,  0.26842742,  0.26842742,  0.26842742],\n",
       "       [-0.52739315, -0.52739315, -0.52739315, -0.52739315, -0.52739315,\n",
       "        -0.52739315, -0.52739315, -0.52739315, -0.52739315, -0.52739315],\n",
       "       [ 1.03343576,  1.03343576,  1.03343576,  1.03343576,  1.03343576,\n",
       "         1.03343576,  1.03343576,  1.03343576,  1.03343576,  1.03343576],\n",
       "       [ 0.0101806 ,  0.0101806 ,  0.0101806 ,  0.0101806 ,  0.0101806 ,\n",
       "         0.0101806 ,  0.0101806 ,  0.0101806 ,  0.0101806 ,  0.0101806 ],\n",
       "       [-1.4369806 , -1.4369806 , -1.4369806 , -1.4369806 , -1.4369806 ,\n",
       "        -1.4369806 , -1.4369806 , -1.4369806 , -1.4369806 , -1.4369806 ],\n",
       "       [-0.22391757, -0.22391757, -0.22391757, -0.22391757, -0.22391757,\n",
       "        -0.22391757, -0.22391757, -0.22391757, -0.22391757, -0.22391757],\n",
       "       [ 0.32202557,  0.32202557,  0.32202557,  0.32202557,  0.32202557,\n",
       "         0.32202557,  0.32202557,  0.32202557,  0.32202557,  0.32202557],\n",
       "       [ 2.60113506,  2.60113506,  2.60113506,  2.60113506,  2.60113506,\n",
       "         2.60113506,  2.60113506,  2.60113506,  2.60113506,  2.60113506],\n",
       "       [ 1.04286513,  1.04286513,  1.04286513,  1.04286513,  1.04286513,\n",
       "         1.04286513,  1.04286513,  1.04286513,  1.04286513,  1.04286513],\n",
       "       [-0.35794771, -0.35794771, -0.35794771, -0.35794771, -0.35794771,\n",
       "        -0.35794771, -0.35794771, -0.35794771, -0.35794771, -0.35794771],\n",
       "       [-0.19994588, -0.19994588, -0.19994588, -0.19994588, -0.19994588,\n",
       "        -0.19994588, -0.19994588, -0.19994588, -0.19994588, -0.19994588],\n",
       "       [-1.05941847, -1.05941847, -1.05941847, -1.05941847, -1.05941847,\n",
       "        -1.05941847, -1.05941847, -1.05941847, -1.05941847, -1.05941847],\n",
       "       [ 0.09371525,  0.09371525,  0.09371525,  0.09371525,  0.09371525,\n",
       "         0.09371525,  0.09371525,  0.09371525,  0.09371525,  0.09371525],\n",
       "       [-0.79790451, -0.79790451, -0.79790451, -0.79790451, -0.79790451,\n",
       "        -0.79790451, -0.79790451, -0.79790451, -0.79790451, -0.79790451],\n",
       "       [-0.37779727, -0.37779727, -0.37779727, -0.37779727, -0.37779727,\n",
       "        -0.37779727, -0.37779727, -0.37779727, -0.37779727, -0.37779727],\n",
       "       [-0.87581372, -0.87581372, -0.87581372, -0.87581372, -0.87581372,\n",
       "        -0.87581372, -0.87581372, -0.87581372, -0.87581372, -0.87581372],\n",
       "       [ 1.70610403,  1.70610403,  1.70610403,  1.70610403,  1.70610403,\n",
       "         1.70610403,  1.70610403,  1.70610403,  1.70610403,  1.70610403],\n",
       "       [-0.87830764, -0.87830764, -0.87830764, -0.87830764, -0.87830764,\n",
       "        -0.87830764, -0.87830764, -0.87830764, -0.87830764, -0.87830764],\n",
       "       [-1.13964541, -1.13964541, -1.13964541, -1.13964541, -1.13964541,\n",
       "        -1.13964541, -1.13964541, -1.13964541, -1.13964541, -1.13964541],\n",
       "       [ 0.03208656,  0.03208656,  0.03208656,  0.03208656,  0.03208656,\n",
       "         0.03208656,  0.03208656,  0.03208656,  0.03208656,  0.03208656],\n",
       "       [-1.83819182, -1.83819182, -1.83819182, -1.83819182, -1.83819182,\n",
       "        -1.83819182, -1.83819182, -1.83819182, -1.83819182, -1.83819182],\n",
       "       [ 0.10452517,  0.10452517,  0.10452517,  0.10452517,  0.10452517,\n",
       "         0.10452517,  0.10452517,  0.10452517,  0.10452517,  0.10452517],\n",
       "       [-0.14941674, -0.14941674, -0.14941674, -0.14941674, -0.14941674,\n",
       "        -0.14941674, -0.14941674, -0.14941674, -0.14941674, -0.14941674],\n",
       "       [-0.33189835, -0.33189835, -0.33189835, -0.33189835, -0.33189835,\n",
       "        -0.33189835, -0.33189835, -0.33189835, -0.33189835, -0.33189835],\n",
       "       [-2.21245056, -2.21245056, -2.21245056, -2.21245056, -2.21245056,\n",
       "        -2.21245056, -2.21245056, -2.21245056, -2.21245056, -2.21245056],\n",
       "       [-0.96386127, -0.96386127, -0.96386127, -0.96386127, -0.96386127,\n",
       "        -0.96386127, -0.96386127, -0.96386127, -0.96386127, -0.96386127],\n",
       "       [ 0.22388832,  0.22388832,  0.22388832,  0.22388832,  0.22388832,\n",
       "         0.22388832,  0.22388832,  0.22388832,  0.22388832,  0.22388832],\n",
       "       [-0.45109628, -0.45109628, -0.45109628, -0.45109628, -0.45109628,\n",
       "        -0.45109628, -0.45109628, -0.45109628, -0.45109628, -0.45109628],\n",
       "       [-0.17780481, -0.17780481, -0.17780481, -0.17780481, -0.17780481,\n",
       "        -0.17780481, -0.17780481, -0.17780481, -0.17780481, -0.17780481],\n",
       "       [-1.2638619 , -1.2638619 , -1.2638619 , -1.2638619 , -1.2638619 ,\n",
       "        -1.2638619 , -1.2638619 , -1.2638619 , -1.2638619 , -1.2638619 ],\n",
       "       [-0.7422425 , -0.7422425 , -0.7422425 , -0.7422425 , -0.7422425 ,\n",
       "        -0.7422425 , -0.7422425 , -0.7422425 , -0.7422425 , -0.7422425 ],\n",
       "       [ 0.61373912,  0.61373912,  0.61373912,  0.61373912,  0.61373912,\n",
       "         0.61373912,  0.61373912,  0.61373912,  0.61373912,  0.61373912],\n",
       "       [-0.23728433, -0.23728433, -0.23728433, -0.23728433, -0.23728433,\n",
       "        -0.23728433, -0.23728433, -0.23728433, -0.23728433, -0.23728433],\n",
       "       [-1.98315821, -1.98315821, -1.98315821, -1.98315821, -1.98315821,\n",
       "        -1.98315821, -1.98315821, -1.98315821, -1.98315821, -1.98315821],\n",
       "       [-0.29614342, -0.29614342, -0.29614342, -0.29614342, -0.29614342,\n",
       "        -0.29614342, -0.29614342, -0.29614342, -0.29614342, -0.29614342],\n",
       "       [-0.65827198, -0.65827198, -0.65827198, -0.65827198, -0.65827198,\n",
       "        -0.65827198, -0.65827198, -0.65827198, -0.65827198, -0.65827198],\n",
       "       [ 1.31219848,  1.31219848,  1.31219848,  1.31219848,  1.31219848,\n",
       "         1.31219848,  1.31219848,  1.31219848,  1.31219848,  1.31219848],\n",
       "       [ 0.89246172,  0.89246172,  0.89246172,  0.89246172,  0.89246172,\n",
       "         0.89246172,  0.89246172,  0.89246172,  0.89246172,  0.89246172],\n",
       "       [ 1.43390248,  1.43390248,  1.43390248,  1.43390248,  1.43390248,\n",
       "         1.43390248,  1.43390248,  1.43390248,  1.43390248,  1.43390248],\n",
       "       [ 1.50535567,  1.50535567,  1.50535567,  1.50535567,  1.50535567,\n",
       "         1.50535567,  1.50535567,  1.50535567,  1.50535567,  1.50535567],\n",
       "       [ 0.50424937,  0.50424937,  0.50424937,  0.50424937,  0.50424937,\n",
       "         0.50424937,  0.50424937,  0.50424937,  0.50424937,  0.50424937],\n",
       "       [ 0.27040337,  0.27040337,  0.27040337,  0.27040337,  0.27040337,\n",
       "         0.27040337,  0.27040337,  0.27040337,  0.27040337,  0.27040337],\n",
       "       [-0.2643741 , -0.2643741 , -0.2643741 , -0.2643741 , -0.2643741 ,\n",
       "        -0.2643741 , -0.2643741 , -0.2643741 , -0.2643741 , -0.2643741 ],\n",
       "       [-0.97094886, -0.97094886, -0.97094886, -0.97094886, -0.97094886,\n",
       "        -0.97094886, -0.97094886, -0.97094886, -0.97094886, -0.97094886],\n",
       "       [-0.97843389, -0.97843389, -0.97843389, -0.97843389, -0.97843389,\n",
       "        -0.97843389, -0.97843389, -0.97843389, -0.97843389, -0.97843389],\n",
       "       [ 0.45508589,  0.45508589,  0.45508589,  0.45508589,  0.45508589,\n",
       "         0.45508589,  0.45508589,  0.45508589,  0.45508589,  0.45508589],\n",
       "       [ 0.17997321,  0.17997321,  0.17997321,  0.17997321,  0.17997321,\n",
       "         0.17997321,  0.17997321,  0.17997321,  0.17997321,  0.17997321],\n",
       "       [-0.24651429, -0.24651429, -0.24651429, -0.24651429, -0.24651429,\n",
       "        -0.24651429, -0.24651429, -0.24651429, -0.24651429, -0.24651429],\n",
       "       [ 0.77272147,  0.77272147,  0.77272147,  0.77272147,  0.77272147,\n",
       "         0.77272147,  0.77272147,  0.77272147,  0.77272147,  0.77272147],\n",
       "       [ 2.06276357,  2.06276357,  2.06276357,  2.06276357,  2.06276357,\n",
       "         2.06276357,  2.06276357,  2.06276357,  2.06276357,  2.06276357],\n",
       "       [-0.90679871, -0.90679871, -0.90679871, -0.90679871, -0.90679871,\n",
       "        -0.90679871, -0.90679871, -0.90679871, -0.90679871, -0.90679871],\n",
       "       [ 1.98196153,  1.98196153,  1.98196153,  1.98196153,  1.98196153,\n",
       "         1.98196153,  1.98196153,  1.98196153,  1.98196153,  1.98196153],\n",
       "       [ 0.18825434,  0.18825434,  0.18825434,  0.18825434,  0.18825434,\n",
       "         0.18825434,  0.18825434,  0.18825434,  0.18825434,  0.18825434],\n",
       "       [ 0.76054777,  0.76054777,  0.76054777,  0.76054777,  0.76054777,\n",
       "         0.76054777,  0.76054777,  0.76054777,  0.76054777,  0.76054777],\n",
       "       [-0.13844525, -0.13844525, -0.13844525, -0.13844525, -0.13844525,\n",
       "        -0.13844525, -0.13844525, -0.13844525, -0.13844525, -0.13844525],\n",
       "       [-0.60073783, -0.60073783, -0.60073783, -0.60073783, -0.60073783,\n",
       "        -0.60073783, -0.60073783, -0.60073783, -0.60073783, -0.60073783],\n",
       "       [ 0.76757395,  0.76757395,  0.76757395,  0.76757395,  0.76757395,\n",
       "         0.76757395,  0.76757395,  0.76757395,  0.76757395,  0.76757395],\n",
       "       [ 1.21403985,  1.21403985,  1.21403985,  1.21403985,  1.21403985,\n",
       "         1.21403985,  1.21403985,  1.21403985,  1.21403985,  1.21403985],\n",
       "       [ 0.48453538,  0.48453538,  0.48453538,  0.48453538,  0.48453538,\n",
       "         0.48453538,  0.48453538,  0.48453538,  0.48453538,  0.48453538],\n",
       "       [ 0.32345577,  0.32345577,  0.32345577,  0.32345577,  0.32345577,\n",
       "         0.32345577,  0.32345577,  0.32345577,  0.32345577,  0.32345577],\n",
       "       [-0.33512123, -0.33512123, -0.33512123, -0.33512123, -0.33512123,\n",
       "        -0.33512123, -0.33512123, -0.33512123, -0.33512123, -0.33512123],\n",
       "       [-0.81548332, -0.81548332, -0.81548332, -0.81548332, -0.81548332,\n",
       "        -0.81548332, -0.81548332, -0.81548332, -0.81548332, -0.81548332],\n",
       "       [-0.45426607, -0.45426607, -0.45426607, -0.45426607, -0.45426607,\n",
       "        -0.45426607, -0.45426607, -0.45426607, -0.45426607, -0.45426607],\n",
       "       [-1.54419651, -1.54419651, -1.54419651, -1.54419651, -1.54419651,\n",
       "        -1.54419651, -1.54419651, -1.54419651, -1.54419651, -1.54419651],\n",
       "       [-1.00820584, -1.00820584, -1.00820584, -1.00820584, -1.00820584,\n",
       "        -1.00820584, -1.00820584, -1.00820584, -1.00820584, -1.00820584],\n",
       "       [ 0.53943091,  0.53943091,  0.53943091,  0.53943091,  0.53943091,\n",
       "         0.53943091,  0.53943091,  0.53943091,  0.53943091,  0.53943091],\n",
       "       [-0.67300423, -0.67300423, -0.67300423, -0.67300423, -0.67300423,\n",
       "        -0.67300423, -0.67300423, -0.67300423, -0.67300423, -0.67300423],\n",
       "       [ 1.51267826,  1.51267826,  1.51267826,  1.51267826,  1.51267826,\n",
       "         1.51267826,  1.51267826,  1.51267826,  1.51267826,  1.51267826],\n",
       "       [ 0.11883528,  0.11883528,  0.11883528,  0.11883528,  0.11883528,\n",
       "         0.11883528,  0.11883528,  0.11883528,  0.11883528,  0.11883528],\n",
       "       [ 1.38157374,  1.38157374,  1.38157374,  1.38157374,  1.38157374,\n",
       "         1.38157374,  1.38157374,  1.38157374,  1.38157374,  1.38157374],\n",
       "       [ 2.45730598,  2.45730598,  2.45730598,  2.45730598,  2.45730598,\n",
       "         2.45730598,  2.45730598,  2.45730598,  2.45730598,  2.45730598],\n",
       "       [ 0.20583395,  0.20583395,  0.20583395,  0.20583395,  0.20583395,\n",
       "         0.20583395,  0.20583395,  0.20583395,  0.20583395,  0.20583395],\n",
       "       [ 0.80447749,  0.80447749,  0.80447749,  0.80447749,  0.80447749,\n",
       "         0.80447749,  0.80447749,  0.80447749,  0.80447749,  0.80447749],\n",
       "       [ 0.1644407 ,  0.1644407 ,  0.1644407 ,  0.1644407 ,  0.1644407 ,\n",
       "         0.1644407 ,  0.1644407 ,  0.1644407 ,  0.1644407 ,  0.1644407 ],\n",
       "       [ 0.90614658,  0.90614658,  0.90614658,  0.90614658,  0.90614658,\n",
       "         0.90614658,  0.90614658,  0.90614658,  0.90614658,  0.90614658],\n",
       "       [-0.02155028, -0.02155028, -0.02155028, -0.02155028, -0.02155028,\n",
       "        -0.02155028, -0.02155028, -0.02155028, -0.02155028, -0.02155028],\n",
       "       [ 0.76234397,  0.76234397,  0.76234397,  0.76234397,  0.76234397,\n",
       "         0.76234397,  0.76234397,  0.76234397,  0.76234397,  0.76234397],\n",
       "       [-0.94825594, -0.94825594, -0.94825594, -0.94825594, -0.94825594,\n",
       "        -0.94825594, -0.94825594, -0.94825594, -0.94825594, -0.94825594],\n",
       "       [-1.17853835, -1.17853835, -1.17853835, -1.17853835, -1.17853835,\n",
       "        -1.17853835, -1.17853835, -1.17853835, -1.17853835, -1.17853835],\n",
       "       [-1.53361261, -1.53361261, -1.53361261, -1.53361261, -1.53361261,\n",
       "        -1.53361261, -1.53361261, -1.53361261, -1.53361261, -1.53361261],\n",
       "       [ 0.7814422 ,  0.7814422 ,  0.7814422 ,  0.7814422 ,  0.7814422 ,\n",
       "         0.7814422 ,  0.7814422 ,  0.7814422 ,  0.7814422 ,  0.7814422 ],\n",
       "       [-0.34394344, -0.34394344, -0.34394344, -0.34394344, -0.34394344,\n",
       "        -0.34394344, -0.34394344, -0.34394344, -0.34394344, -0.34394344],\n",
       "       [ 0.0889943 ,  0.0889943 ,  0.0889943 ,  0.0889943 ,  0.0889943 ,\n",
       "         0.0889943 ,  0.0889943 ,  0.0889943 ,  0.0889943 ,  0.0889943 ],\n",
       "       [-0.78178382, -0.78178382, -0.78178382, -0.78178382, -0.78178382,\n",
       "        -0.78178382, -0.78178382, -0.78178382, -0.78178382, -0.78178382],\n",
       "       [-1.11910822, -1.11910822, -1.11910822, -1.11910822, -1.11910822,\n",
       "        -1.11910822, -1.11910822, -1.11910822, -1.11910822, -1.11910822],\n",
       "       [ 0.32753614,  0.32753614,  0.32753614,  0.32753614,  0.32753614,\n",
       "         0.32753614,  0.32753614,  0.32753614,  0.32753614,  0.32753614],\n",
       "       [ 0.81581608,  0.81581608,  0.81581608,  0.81581608,  0.81581608,\n",
       "         0.81581608,  0.81581608,  0.81581608,  0.81581608,  0.81581608],\n",
       "       [ 1.66362036,  1.66362036,  1.66362036,  1.66362036,  1.66362036,\n",
       "         1.66362036,  1.66362036,  1.66362036,  1.66362036,  1.66362036],\n",
       "       [ 0.77625367,  0.77625367,  0.77625367,  0.77625367,  0.77625367,\n",
       "         0.77625367,  0.77625367,  0.77625367,  0.77625367,  0.77625367],\n",
       "       [ 0.62314818,  0.62314818,  0.62314818,  0.62314818,  0.62314818,\n",
       "         0.62314818,  0.62314818,  0.62314818,  0.62314818,  0.62314818],\n",
       "       [ 0.19910099,  0.19910099,  0.19910099,  0.19910099,  0.19910099,\n",
       "         0.19910099,  0.19910099,  0.19910099,  0.19910099,  0.19910099],\n",
       "       [-0.73493962, -0.73493962, -0.73493962, -0.73493962, -0.73493962,\n",
       "        -0.73493962, -0.73493962, -0.73493962, -0.73493962, -0.73493962],\n",
       "       [ 1.13137369,  1.13137369,  1.13137369,  1.13137369,  1.13137369,\n",
       "         1.13137369,  1.13137369,  1.13137369,  1.13137369,  1.13137369]])"
      ]
     },
     "execution_count": 7,
     "metadata": {},
     "output_type": "execute_result"
    }
   ],
   "source": [
    "a.grad.data"
   ]
  },
  {
   "cell_type": "code",
   "execution_count": null,
   "metadata": {},
   "outputs": [],
   "source": []
  }
 ],
 "metadata": {
  "kernelspec": {
   "display_name": "Python 3",
   "language": "python",
   "name": "python3"
  },
  "language_info": {
   "codemirror_mode": {
    "name": "ipython",
    "version": 3
   },
   "file_extension": ".py",
   "mimetype": "text/x-python",
   "name": "python",
   "nbconvert_exporter": "python",
   "pygments_lexer": "ipython3",
   "version": "3.11.3"
  },
  "orig_nbformat": 4
 },
 "nbformat": 4,
 "nbformat_minor": 2
}
